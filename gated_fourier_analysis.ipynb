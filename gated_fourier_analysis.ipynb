{
 "cells": [
  {
   "cell_type": "code",
   "execution_count": null,
   "id": "a12a1815",
   "metadata": {},
   "outputs": [],
   "source": [
    "import numpy as np\n",
    "import matplotlib.pyplot as plt\n",
    "from scipy.signal import get_window\n",
    "\n",
    "def gated_fourier_analysis(signal, window_size, hop_size, window_type='hann', fs=1.0, plot=False):\n",
    "    \"\"\"\n",
    "    Perform Gated (Windowed) Fourier Analysis (STFT) on a 1D signal.\n",
    "\n",
    "    Parameters:\n",
    "    - signal (array-like): Input signal\n",
    "    - window_size (int): Size of the analysis window\n",
    "    - hop_size (int): Step size between successive windows\n",
    "    - window_type (str): Type of window (e.g. 'hann', 'gaussian', 'hamming')\n",
    "    - fs (float): Sampling frequency (for frequency axis)\n",
    "    - plot (bool): If True, show the spectrogram\n",
    "\n",
    "    Returns:\n",
    "    - stft_matrix (2D np.array): Complex STFT matrix [freq, time]\n",
    "    - freqs (1D np.array): Frequency axis\n",
    "    - times (1D np.array): Time axis\n",
    "    \"\"\"\n",
    "\n",
    "    signal = np.asarray(signal)\n",
    "    window = get_window(window_type, window_size, fftbins=True)\n",
    "    num_frames = 1 + (len(signal) - window_size) // hop_size\n",
    "    stft_matrix = np.zeros((window_size // 2 + 1, num_frames), dtype=np.complex64)\n",
    "\n",
    "    for i in range(num_frames):\n",
    "        start = i * hop_size\n",
    "        segment = signal[start:start + window_size]\n",
    "        if len(segment) < window_size:\n",
    "            segment = np.pad(segment, (0, window_size - len(segment)), mode='constant')\n",
    "\n",
    "        windowed = segment * window\n",
    "        spectrum = np.fft.rfft(windowed)\n",
    "        stft_matrix[:, i] = spectrum\n",
    "\n",
    "    freqs = np.fft.rfftfreq(window_size, d=1/fs)\n",
    "    times = np.arange(num_frames) * hop_size / fs\n",
    "\n",
    "    if plot:\n",
    "        plt.figure(figsize=(10, 5))\n",
    "        plt.pcolormesh(times, freqs, 20 * np.log10(np.abs(stft_matrix) + 1e-10), shading='gouraud')\n",
    "        plt.title('Spectrogram (Gated Fourier Analysis)')\n",
    "        plt.xlabel('Time [s]')\n",
    "        plt.ylabel('Frequency [Hz]')\n",
    "        plt.colorbar(label='Magnitude [dB]')\n",
    "        plt.tight_layout()\n",
    "        plt.show()\n",
    "\n",
    "    return stft_matrix, freqs, times\n"
   ]
  },
  {
   "cell_type": "code",
   "execution_count": null,
   "id": "f75cb26e",
   "metadata": {},
   "outputs": [],
   "source": [
    "import numpy as np\n",
    "\n",
    "# Example signal: 2 sinusoids\n",
    "fs = 1000  # Sampling rate in Hz\n",
    "t = np.linspace(0, 1, fs, endpoint=False)\n",
    "signal = np.sin(2 * np.pi * 50 * t) + np.sin(2 * np.pi * 120 * t)\n",
    "\n",
    "# Run gated Fourier analysis\n",
    "stft_matrix, freqs, times = gated_fourier_analysis(signal, window_size=256, hop_size=128, fs=fs, plot=True)\n"
   ]
  },
  {
   "cell_type": "code",
   "execution_count": null,
   "id": "930e557f",
   "metadata": {},
   "outputs": [],
   "source": []
  }
 ],
 "metadata": {
  "kernelspec": {
   "display_name": "Python 3",
   "language": "python",
   "name": "python3"
  },
  "language_info": {
   "codemirror_mode": {
    "name": "ipython",
    "version": 3
   },
   "file_extension": ".py",
   "mimetype": "text/x-python",
   "name": "python",
   "nbconvert_exporter": "python",
   "pygments_lexer": "ipython3",
   "version": "3.9.10"
  }
 },
 "nbformat": 4,
 "nbformat_minor": 5
}
